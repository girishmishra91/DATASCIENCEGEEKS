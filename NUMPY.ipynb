{
 "cells": [
  {
   "cell_type": "code",
   "execution_count": 1,
   "id": "126d5645-cb43-445c-9329-0f6b15097b29",
   "metadata": {},
   "outputs": [],
   "source": [
    "import numpy as np"
   ]
  },
  {
   "cell_type": "markdown",
   "id": "56b687b7-815d-4ff9-b3bf-785cb171701a",
   "metadata": {},
   "source": [
    "### converting a list to array"
   ]
  },
  {
   "cell_type": "code",
   "execution_count": 22,
   "id": "5ca84634-088f-465a-b493-0e62a22a14b9",
   "metadata": {},
   "outputs": [
    {
     "data": {
      "text/plain": [
       "array([11, 12, 13, 14, 15])"
      ]
     },
     "execution_count": 22,
     "metadata": {},
     "output_type": "execute_result"
    }
   ],
   "source": [
    "lst=[11,12,13,14,15]\n",
    "arr=np.array(lst)\n",
    "arr"
   ]
  },
  {
   "cell_type": "code",
   "execution_count": 24,
   "id": "548d9183-76cd-4968-b4cf-1d90037dd577",
   "metadata": {},
   "outputs": [
    {
     "data": {
      "text/plain": [
       "numpy.ndarray"
      ]
     },
     "execution_count": 24,
     "metadata": {},
     "output_type": "execute_result"
    }
   ],
   "source": [
    "type(np.array(lst))"
   ]
  },
  {
   "cell_type": "code",
   "execution_count": 26,
   "id": "8d01baf0-9126-449b-9879-918354219e8b",
   "metadata": {},
   "outputs": [
    {
     "name": "stdout",
     "output_type": "stream",
     "text": [
      "[11 12 13 14 15]\n",
      "1\n"
     ]
    }
   ],
   "source": [
    "print(arr)\n",
    "print(arr.ndim)"
   ]
  },
  {
   "cell_type": "code",
   "execution_count": 61,
   "id": "f6a35504-f169-485c-9a9e-efba0165b025",
   "metadata": {},
   "outputs": [
    {
     "data": {
      "text/plain": [
       "array([[11, 12, 13, 14, 15]])"
      ]
     },
     "execution_count": 61,
     "metadata": {},
     "output_type": "execute_result"
    }
   ],
   "source": [
    "arr=np.array(lst,ndmin=2)\n",
    "arr\n",
    "\n",
    "\n"
   ]
  },
  {
   "cell_type": "markdown",
   "id": "485df79c-9517-43a6-bd7c-4d3d5ca6c17c",
   "metadata": {},
   "source": [
    "### arrange function"
   ]
  },
  {
   "cell_type": "code",
   "execution_count": 11,
   "id": "ed635a37-512b-49c9-a94a-da6a868a8973",
   "metadata": {},
   "outputs": [
    {
     "data": {
      "text/plain": [
       "array([1, 3, 5, 7, 9])"
      ]
     },
     "execution_count": 11,
     "metadata": {},
     "output_type": "execute_result"
    }
   ],
   "source": [
    "np.arange(1,10,2)"
   ]
  },
  {
   "cell_type": "code",
   "execution_count": 7,
   "id": "c4880684-db12-41fa-a181-bb7fe1f9f954",
   "metadata": {},
   "outputs": [
    {
     "name": "stdout",
     "output_type": "stream",
     "text": [
      "1\n",
      "3\n",
      "5\n",
      "7\n",
      "9\n"
     ]
    }
   ],
   "source": [
    "for i in range(1,11,2):\n",
    "    print(i)\n"
   ]
  },
  {
   "cell_type": "markdown",
   "id": "6753b5db-689b-402b-ae10-8181bc542f3d",
   "metadata": {},
   "source": [
    "### multidimension"
   ]
  },
  {
   "cell_type": "code",
   "execution_count": 18,
   "id": "9620723c-ef12-4f74-9f95-946b41957f65",
   "metadata": {},
   "outputs": [
    {
     "data": {
      "text/plain": [
       "array([[1, 2, 3],\n",
       "       [4, 5, 6],\n",
       "       [7, 8, 9]])"
      ]
     },
     "execution_count": 18,
     "metadata": {},
     "output_type": "execute_result"
    }
   ],
   "source": [
    "arr=np.array([[1,2,3],[4,5,6],[7,8,9]])\n",
    "arr"
   ]
  },
  {
   "cell_type": "markdown",
   "id": "0f2d5670-d851-417a-b2c2-bd1d93a75a7b",
   "metadata": {},
   "source": [
    "### size function"
   ]
  },
  {
   "cell_type": "code",
   "execution_count": 37,
   "id": "4381a805-4a2d-40fe-94d3-0b1bff4fe2c4",
   "metadata": {},
   "outputs": [
    {
     "name": "stdout",
     "output_type": "stream",
     "text": [
      "column: 3\n",
      "row: 4\n",
      "element 12\n"
     ]
    },
    {
     "data": {
      "text/plain": [
       "array([[ 1,  2,  3],\n",
       "       [ 4,  5,  6],\n",
       "       [ 7,  8,  9],\n",
       "       [11, 12, 13]])"
      ]
     },
     "execution_count": 37,
     "metadata": {},
     "output_type": "execute_result"
    }
   ],
   "source": [
    "arr=np.array([[1,2,3],[4,5,6],[7,8,9],[11,12,13]])\n",
    "print(\"column:\",np.size(arr,1))\n",
    "print(\"row:\",np.size(arr,0))\n",
    "print(\"element\",arr.size)\n",
    "arr"
   ]
  },
  {
   "cell_type": "markdown",
   "id": "68e3178a-be0e-4e1c-8050-affcf86b0231",
   "metadata": {},
   "source": [
    "### shape function"
   ]
  },
  {
   "cell_type": "code",
   "execution_count": 46,
   "id": "71aebeaf-8197-4de0-b2cd-951facf3f544",
   "metadata": {},
   "outputs": [
    {
     "name": "stdout",
     "output_type": "stream",
     "text": [
      "(4, 3)\n"
     ]
    },
    {
     "data": {
      "text/plain": [
       "(4, 3)"
      ]
     },
     "execution_count": 46,
     "metadata": {},
     "output_type": "execute_result"
    }
   ],
   "source": [
    "arr=np.array([[1,2,3],[4,5,6],[7,8,9],[11,12,13]])\n",
    "print((np.size(arr,0),np.size(arr,1)))\n",
    "\n",
    "arr.shape   # shape"
   ]
  },
  {
   "cell_type": "markdown",
   "id": "d07628cb-8456-4dbb-91ec-e40e8a73d48e",
   "metadata": {},
   "source": [
    "### dtype function"
   ]
  },
  {
   "cell_type": "code",
   "execution_count": 51,
   "id": "dd993048-55b0-4b86-99ef-c6960c90eafa",
   "metadata": {},
   "outputs": [
    {
     "data": {
      "text/plain": [
       "dtype('int32')"
      ]
     },
     "execution_count": 51,
     "metadata": {},
     "output_type": "execute_result"
    }
   ],
   "source": [
    "arr=np.array([[1,2,3],[4,5,6],[7,8,9],[11,12,13]])\n",
    "arr.dtype"
   ]
  },
  {
   "cell_type": "markdown",
   "id": "fbb1eb30-bdd1-42e5-ae09-c96ee5f4cf6b",
   "metadata": {},
   "source": [
    "### ndim type"
   ]
  },
  {
   "cell_type": "code",
   "execution_count": 64,
   "id": "5c195173-f84a-4df1-acd1-e78685fda090",
   "metadata": {},
   "outputs": [
    {
     "name": "stdout",
     "output_type": "stream",
     "text": [
      "1\n",
      "2\n"
     ]
    },
    {
     "data": {
      "text/plain": [
       "4"
      ]
     },
     "execution_count": 64,
     "metadata": {},
     "output_type": "execute_result"
    }
   ],
   "source": [
    "arr_1=np.array([1,2,3,4,5,6])\n",
    "arr_2=np.array([[1,2,3],[4,5,6],[7,8,9]])\n",
    "print(arr_1.ndim)\n",
    "print(arr_2.ndim)\n",
    "arr_3=np.array(arr_1,ndmin=4)\n",
    "arr_3.ndim"
   ]
  },
  {
   "cell_type": "markdown",
   "id": "e8d7c541-4918-4a35-ab42-54d0a8e1f8a4",
   "metadata": {},
   "source": [
    "### zeroes function"
   ]
  },
  {
   "cell_type": "code",
   "execution_count": 71,
   "id": "adffe289-6a99-4b5c-acb7-712b6cf03589",
   "metadata": {},
   "outputs": [
    {
     "name": "stdout",
     "output_type": "stream",
     "text": [
      "[[0 0 0 0]\n",
      " [0 0 0 0]\n",
      " [0 0 0 0]]\n"
     ]
    }
   ],
   "source": [
    "arr=np.zeros(shape=(3,4),dtype=int)\n",
    "arr.dtype\n",
    "print(arr)"
   ]
  },
  {
   "cell_type": "markdown",
   "id": "a08c7dad-62ff-424e-bbe8-718b686b9a91",
   "metadata": {},
   "source": [
    "### ones function"
   ]
  },
  {
   "cell_type": "code",
   "execution_count": 74,
   "id": "b1ebe160-8f8a-479a-8341-f5f9251e8290",
   "metadata": {},
   "outputs": [
    {
     "name": "stdout",
     "output_type": "stream",
     "text": [
      "[[1 1 1 1]\n",
      " [1 1 1 1]\n",
      " [1 1 1 1]]\n"
     ]
    }
   ],
   "source": [
    "arr=np.ones(shape=(3,4),dtype=int)\n",
    "arr.dtype\n",
    "print(arr)"
   ]
  },
  {
   "cell_type": "markdown",
   "id": "b32351b2-7279-4ada-89e8-b4240c3fee0d",
   "metadata": {},
   "source": [
    "### eye function"
   ]
  },
  {
   "cell_type": "code",
   "execution_count": 81,
   "id": "b1e1fdc6-27d9-4e7a-b473-9bd6d8943108",
   "metadata": {},
   "outputs": [
    {
     "data": {
      "text/plain": [
       "array([[1, 0, 0, 0],\n",
       "       [0, 1, 0, 0],\n",
       "       [0, 0, 1, 0],\n",
       "       [0, 0, 0, 1]])"
      ]
     },
     "execution_count": 81,
     "metadata": {},
     "output_type": "execute_result"
    }
   ],
   "source": [
    "np.eye(4,dtype=int)"
   ]
  },
  {
   "cell_type": "markdown",
   "id": "4c812d86-6701-451b-9bb6-5161117bf2e1",
   "metadata": {},
   "source": [
    "\n",
    "### empty function"
   ]
  },
  {
   "cell_type": "code",
   "execution_count": 86,
   "id": "ce1ac634-cfbd-414a-be3d-c62c21d6e484",
   "metadata": {},
   "outputs": [
    {
     "data": {
      "text/plain": [
       "array([[6.23042070e-307, 3.56043053e-307, 1.60219306e-306,\n",
       "        7.56571288e-307, 7.56587584e-307],\n",
       "       [1.37961302e-306, 1.05699242e-307, 8.01097889e-307,\n",
       "        1.78020169e-306, 7.56601165e-307],\n",
       "       [1.02359984e-306, 1.42417221e-306, 7.56593017e-307,\n",
       "        1.37961302e-306, 1.11259940e-306],\n",
       "       [1.60219035e-306, 1.33511018e-306, 8.90092016e-307,\n",
       "        9.79098366e-307, 9.34605037e-307],\n",
       "       [1.37962320e-306, 1.37961302e-306, 2.22522596e-306,\n",
       "        2.12203497e-312, 2.10077583e-312]])"
      ]
     },
     "execution_count": 86,
     "metadata": {},
     "output_type": "execute_result"
    }
   ],
   "source": [
    "np.empty(shape=(5,5))"
   ]
  },
  {
   "cell_type": "markdown",
   "id": "d392fd03-b9c9-460f-af2d-a5731f828315",
   "metadata": {},
   "source": [
    "## random Function"
   ]
  },
  {
   "cell_type": "markdown",
   "id": "c0ecb99c-c8c0-44ea-bc90-02068477f081",
   "metadata": {},
   "source": [
    "### np.random.rand"
   ]
  },
  {
   "cell_type": "code",
   "execution_count": 90,
   "id": "caf78262-a7bb-4c66-a059-a637144a4320",
   "metadata": {},
   "outputs": [
    {
     "data": {
      "text/plain": [
       "array([[0.49480212, 0.07041319, 0.73884651, 0.93051444],\n",
       "       [0.01615661, 0.58796961, 0.21239669, 0.32208641],\n",
       "       [0.26567366, 0.79465297, 0.58813689, 0.09966947]])"
      ]
     },
     "execution_count": 90,
     "metadata": {},
     "output_type": "execute_result"
    }
   ],
   "source": [
    "np.random.rand(3,4)"
   ]
  },
  {
   "cell_type": "markdown",
   "id": "beec1572-867d-4cdc-96ea-692ede0869e8",
   "metadata": {},
   "source": [
    "### np.random.randint"
   ]
  },
  {
   "cell_type": "code",
   "execution_count": 95,
   "id": "6ec240a0-79da-46b1-b355-cf0169134fca",
   "metadata": {},
   "outputs": [
    {
     "data": {
      "text/plain": [
       "array([1, 6, 1, 3, 3, 1, 4, 1, 1, 3, 6, 7, 2, 6, 2])"
      ]
     },
     "execution_count": 95,
     "metadata": {},
     "output_type": "execute_result"
    }
   ],
   "source": [
    "np.random.randint(1,8,15)         # low,high,element"
   ]
  },
  {
   "cell_type": "markdown",
   "id": "7c4ee986-107d-457d-a0e7-f6158d077275",
   "metadata": {},
   "source": [
    "### np.random.randn"
   ]
  },
  {
   "cell_type": "code",
   "execution_count": 5,
   "id": "53fd152d-0e5c-4529-836c-4fd52344eb72",
   "metadata": {},
   "outputs": [
    {
     "data": {
      "text/plain": [
       "(array([ 14.,  42.,  93., 191., 258., 217., 119.,  49.,  13.,   4.]),\n",
       " array([-2.91876073, -2.28981698, -1.66087322, -1.03192946, -0.40298571,\n",
       "         0.22595805,  0.85490181,  1.48384557,  2.11278932,  2.74173308,\n",
       "         3.37067684]),\n",
       " <BarContainer object of 10 artists>)"
      ]
     },
     "execution_count": 5,
     "metadata": {},
     "output_type": "execute_result"
    },
    {
     "data": {
      "image/png": "[encoded data removed]",
      "text/plain": [
       "<Figure size 640x480 with 1 Axes>"
      ]
     },
     "metadata": {},
     "output_type": "display_data"
    }
   ],
   "source": [
    "import matplotlib.pyplot as plt\n",
    "%matplotlib inline\n",
    "plt.hist(np.random.randn(1000) ,bins=10)       #standard normal distribution"
   ]
  },
  {
   "cell_type": "markdown",
   "id": "1646e0e2-7c88-49f6-8ec1-192b5aff66d4",
   "metadata": {},
   "source": [
    "### reshape function"
   ]
  },
  {
   "cell_type": "code",
   "execution_count": 16,
   "id": "7ffe6948-811f-4d22-833a-7dcb02f28077",
   "metadata": {},
   "outputs": [
    {
     "name": "stdout",
     "output_type": "stream",
     "text": [
      "(3, 4)\n"
     ]
    },
    {
     "data": {
      "text/plain": [
       "(4, 3)"
      ]
     },
     "execution_count": 16,
     "metadata": {},
     "output_type": "execute_result"
    }
   ],
   "source": [
    "arr=np.random.randint(1,15,(3,4))\n",
    "print(arr.shape)\n",
    "arr=arr.reshape(4,3)\n",
    "arr.shape"
   ]
  },
  {
   "cell_type": "markdown",
   "id": "abb214e9-e8e3-498c-a1be-5d9252a36837",
   "metadata": {},
   "source": [
    "### linspace function"
   ]
  },
  {
   "cell_type": "code",
   "execution_count": 19,
   "id": "b53a0ae6-95b3-42fe-8b70-5a313f16da23",
   "metadata": {},
   "outputs": [
    {
     "data": {
      "text/plain": [
       "array([ 1. ,  4.5,  8. , 11.5, 15. ])"
      ]
     },
     "execution_count": 19,
     "metadata": {},
     "output_type": "execute_result"
    }
   ],
   "source": [
    "np.linspace(1,15,5)"
   ]
  },
  {
   "cell_type": "markdown",
   "id": "0fa711bf-00b0-4217-aac9-29ea8b86b38a",
   "metadata": {},
   "source": [
    "### flatten function"
   ]
  },
  {
   "cell_type": "code",
   "execution_count": 27,
   "id": "46b36c9d-beb3-4860-8bd3-99410b7ac589",
   "metadata": {},
   "outputs": [
    {
     "name": "stdout",
     "output_type": "stream",
     "text": [
      "(3, 4)\n",
      "[[ 9  5 10 12]\n",
      " [11  2  5  5]\n",
      " [ 7  3 13  5]]\n",
      "[ 9  5 10 12 11  2  5  5  7  3 13  5]\n"
     ]
    }
   ],
   "source": [
    "arr=np.random.randint(1,15,(3,4))\n",
    "print(arr.shape)\n",
    "print(arr)\n",
    "arr=arr.flatten()\n",
    "print(arr)"
   ]
  },
  {
   "cell_type": "markdown",
   "id": "a9cdbd14-db17-4284-a276-38c9aac4914d",
   "metadata": {},
   "source": [
    "### logspace function"
   ]
  },
  {
   "cell_type": "code",
   "execution_count": 33,
   "id": "416fb047-8e3d-4218-a69d-81a0d9f606d4",
   "metadata": {},
   "outputs": [
    {
     "name": "stdout",
     "output_type": "stream",
     "text": [
      "[1.00000000e+01 3.72759372e+01 1.38949549e+02 5.17947468e+02\n",
      " 1.93069773e+03 7.19685673e+03 2.68269580e+04 1.00000000e+05]\n",
      "[  4.           5.27803164   6.96440451   9.18958684  12.12573253\n",
      "  16.          21.11212657  27.85761803  36.75834736  48.50293013\n",
      "  64.          84.44850629 111.4304721  147.03338944 194.01172051\n",
      " 256.        ]\n"
     ]
    }
   ],
   "source": [
    "print(np.logspace(1,5,8))\n",
    "print(np.logspace(2,8,16,base=2))"
   ]
  },
  {
   "cell_type": "markdown",
   "id": "6db57eac-36bf-4ef0-b29f-d63bf1ff75dd",
   "metadata": {},
   "source": [
    "### copy function"
   ]
  },
  {
   "cell_type": "code",
   "execution_count": 43,
   "id": "3cc16f93-8819-4b5a-ad25-d0a9f6c77686",
   "metadata": {},
   "outputs": [
    {
     "name": "stdout",
     "output_type": "stream",
     "text": [
      "[4 1 1 1 3 3 2 1 3 1] 1727223785840\n",
      "[4 1 1 1 3 3 2 1 3 1] 1727223785840\n",
      "--------------------------------------------------\n",
      "[4 2 1 3 3 4 4 4 3 4] 1727223791504\n",
      "[4 2 1 3 3 4 4 4 3 4] 1727215825232\n"
     ]
    }
   ],
   "source": [
    "arr_1=np.random.randint(1,5,10)\n",
    "arr_2=np.random.randint(1,5,10)\n",
    "arr_1=arr_2\n",
    "print(arr_1,id(arr_1))\n",
    "print(arr_2,id(arr_2))\n",
    "print(\"-\"*50)\n",
    "arr_1=np.random.randint(1,5,10)\n",
    "arr_2=arr_1.copy()\n",
    "print(arr_1,id(arr_1))\n",
    "print(arr_2,id(arr_2))"
   ]
  },
  {
   "cell_type": "markdown",
   "id": "a521b061-a861-4231-b1dc-4d0410da1064",
   "metadata": {},
   "source": [
    "### arr.max,arr.min,arr.sum"
   ]
  },
  {
   "cell_type": "code",
   "execution_count": 49,
   "id": "ea453890-9275-4405-9604-47d5bae3fd27",
   "metadata": {},
   "outputs": [
    {
     "name": "stdout",
     "output_type": "stream",
     "text": [
      "[[10  7  7  7]\n",
      " [ 5  2 13 10]\n",
      " [14 11  1  3]]\n",
      "**************************************************\n",
      "Max: 14\n",
      "Min: 1\n",
      "Sum: 90\n",
      "**************************************************\n"
     ]
    }
   ],
   "source": [
    "arr=np.random.randint(1,15,(3,4))\n",
    "print(arr)\n",
    "print(\"*\"*50)\n",
    "print(\"Max:\",arr.max())\n",
    "print(\"Min:\",arr.min())\n",
    "print(\"Sum:\",arr.sum())\n",
    "print(\"*\"*50)"
   ]
  },
  {
   "cell_type": "markdown",
   "id": "5afc8887-f72c-4540-b037-d314df23ca90",
   "metadata": {},
   "source": [
    "### for columns"
   ]
  },
  {
   "cell_type": "code",
   "execution_count": 55,
   "id": "55c80c42-4998-447c-a6fa-1b00803c3c88",
   "metadata": {},
   "outputs": [
    {
     "name": "stdout",
     "output_type": "stream",
     "text": [
      "max: [14 11 13 10]\n",
      "min: [5 2 1 3]\n",
      "sum: [29 20 21 20]\n"
     ]
    }
   ],
   "source": [
    "print(\"max:\",arr.max(axis=0))\n",
    "print(\"min:\",arr.min(axis=0))\n",
    "print(\"sum:\",arr.sum(axis=0))"
   ]
  },
  {
   "cell_type": "markdown",
   "id": "818e5892-0cc7-4cd0-bef3-e5d57dc374e9",
   "metadata": {},
   "source": [
    "### for rows"
   ]
  },
  {
   "cell_type": "code",
   "execution_count": 57,
   "id": "fa7eecff-2a54-4cb1-91ac-657439ab5474",
   "metadata": {},
   "outputs": [
    {
     "name": "stdout",
     "output_type": "stream",
     "text": [
      "max: [10 13 14]\n",
      "min: [7 2 1]\n",
      "sum: [31 30 29]\n"
     ]
    }
   ],
   "source": [
    "print(\"max:\",arr.max(axis=1))\n",
    "print(\"min:\",arr.min(axis=1))\n",
    "print(\"sum:\",arr.sum(axis=1))"
   ]
  },
  {
   "cell_type": "markdown",
   "id": "b7d68ddd-84e7-4dd9-83cb-d83efa446272",
   "metadata": {},
   "source": [
    "### seed function"
   ]
  },
  {
   "cell_type": "code",
   "execution_count": 65,
   "id": "9cb74f90-9abf-4f75-a3f7-33398e91af5a",
   "metadata": {},
   "outputs": [
    {
     "data": {
      "text/plain": [
       "array([[4, 2, 3, 5],\n",
       "       [2, 2, 2, 7],\n",
       "       [7, 5, 4, 5]])"
      ]
     },
     "execution_count": 65,
     "metadata": {},
     "output_type": "execute_result"
    }
   ],
   "source": [
    "np.random.seed(3)\n",
    "arr=np.random.randint(2,8,(3,4))                    # isme seed se aap ka random element nahi hoga change \n",
    "arr"
   ]
  },
  {
   "cell_type": "code",
   "execution_count": 69,
   "id": "efee24b4-e881-4016-92c4-d45989703437",
   "metadata": {},
   "outputs": [
    {
     "data": {
      "text/plain": [
       "array([[4, 4, 6, 3],\n",
       "       [5, 4, 7, 2],\n",
       "       [3, 7, 4, 2]])"
      ]
     },
     "execution_count": 69,
     "metadata": {},
     "output_type": "execute_result"
    }
   ],
   "source": [
    "arr=np.random.randint(2,8,(3,4))                    # isme seed se aap ka random element nahi hoga change \n",
    "arr"
   ]
  },
  {
   "cell_type": "markdown",
   "id": "9bd79fdb-a382-41f0-8c97-2795c59941cf",
   "metadata": {},
   "source": [
    "### sorting function"
   ]
  },
  {
   "cell_type": "code",
   "execution_count": 95,
   "id": "1f33b303-764a-4b04-9b0a-0097edfa365a",
   "metadata": {},
   "outputs": [
    {
     "name": "stdout",
     "output_type": "stream",
     "text": [
      "[[11  9 10  4]\n",
      " [ 9  9  1  6]\n",
      " [14  4 11 12]]\n",
      "**************************************************\n",
      "[[ 9  4  1  4]\n",
      " [11  9 10  6]\n",
      " [14  9 11 12]]\n",
      "**************************************************\n",
      "[[ 4  9 10 11]\n",
      " [ 1  6  9  9]\n",
      " [ 4 11 12 14]]\n",
      "set up of original size\n",
      "[[ 1  4  4  6]\n",
      " [ 9  9  9 10]\n",
      " [11 11 12 14]]\n"
     ]
    }
   ],
   "source": [
    "np.random.seed(3)\n",
    "arr=np.random.randint(1,15,(3,4))\n",
    "print(arr)\n",
    "print(\"*\"*50)\n",
    "print(np.sort(arr,axis=0))\n",
    "print(\"*\"*50)\n",
    "print(np.sort(arr,axis=1,kind='mergesort'))            # aap ke side se depend karte hay algo ka system\n",
    "print(\"set up of original size\")\n",
    "arr=np.reshape(np.sort(arr.flatten()),arr.shape)\n",
    "print(arr)"
   ]
  },
  {
   "cell_type": "markdown",
   "id": "58bbf94a-3da6-48f3-8479-35fbe5f9f0f5",
   "metadata": {},
   "source": [
    "# Mathematical operation"
   ]
  },
  {
   "cell_type": "markdown",
   "id": "42fbdf34-3dc9-40bd-9f90-2fdc4a6555bb",
   "metadata": {},
   "source": [
    "### adddition"
   ]
  },
  {
   "cell_type": "code",
   "execution_count": 100,
   "id": "7853c918-decd-41b5-a228-9dc7f48bcb55",
   "metadata": {},
   "outputs": [
    {
     "name": "stdout",
     "output_type": "stream",
     "text": [
      "[[11  2 11  7]\n",
      " [ 3  3 13  2]\n",
      " [ 4 11  6  9]]\n",
      "**************************************************\n",
      "[[12  3 12  8]\n",
      " [ 4  4 14  3]\n",
      " [ 5 12  7 10]]\n",
      "**************************************************\n"
     ]
    }
   ],
   "source": [
    "arr=np.random.randint(1,15,(3,4))\n",
    "print(arr)\n",
    "print(\"*\"*50)\n",
    "print(arr+1)\n",
    "print(\"*\"*50)"
   ]
  },
  {
   "cell_type": "markdown",
   "id": "fb38b385-d601-41e6-962f-06a2776bfe02",
   "metadata": {},
   "source": [
    "### subtraction"
   ]
  },
  {
   "cell_type": "code",
   "execution_count": 103,
   "id": "73ec493d-df2d-4481-b8f0-1fe620a29a9e",
   "metadata": {},
   "outputs": [
    {
     "name": "stdout",
     "output_type": "stream",
     "text": [
      "[[ 2 14 11  9]\n",
      " [12  8  9 12]\n",
      " [ 2 12  1  6]]\n",
      "**************************************************\n",
      "[[ 1 13 10  8]\n",
      " [11  7  8 11]\n",
      " [ 1 11  0  5]]\n",
      "**************************************************\n"
     ]
    }
   ],
   "source": [
    "arr=np.random.randint(1,15,(3,4))\n",
    "print(arr)\n",
    "print(\"*\"*50)\n",
    "print(arr-1)\n",
    "print(\"*\"*50)"
   ]
  },
  {
   "cell_type": "markdown",
   "id": "70449d26-f520-49cf-9fb9-dbb820738d6f",
   "metadata": {},
   "source": [
    "### multiplication"
   ]
  },
  {
   "cell_type": "code",
   "execution_count": 106,
   "id": "fb01444b-3e43-4025-b367-b01cac956c14",
   "metadata": {},
   "outputs": [
    {
     "name": "stdout",
     "output_type": "stream",
     "text": [
      "[[ 5  2  6  5]\n",
      " [13  8  7  1]\n",
      " [ 1 10  3  5]]\n",
      "**************************************************\n",
      "[[25 10 30 25]\n",
      " [65 40 35  5]\n",
      " [ 5 50 15 25]]\n",
      "**************************************************\n"
     ]
    }
   ],
   "source": [
    "arr=np.random.randint(1,15,(3,4))\n",
    "print(arr)\n",
    "print(\"*\"*50)\n",
    "print(arr*5)\n",
    "print(\"*\"*50)"
   ]
  },
  {
   "cell_type": "markdown",
   "id": "3c275940-517b-48e7-bb0c-d605525c54a7",
   "metadata": {},
   "source": [
    "### division"
   ]
  },
  {
   "cell_type": "code",
   "execution_count": 109,
   "id": "5d81f606-c708-46c1-912e-91a631fc7797",
   "metadata": {},
   "outputs": [
    {
     "name": "stdout",
     "output_type": "stream",
     "text": [
      "[[ 6  9  9  8]\n",
      " [ 6 14  2  2]\n",
      " [ 2  6  6  8]]\n",
      "**************************************************\n",
      "[[3 4 4 4]\n",
      " [3 7 1 1]\n",
      " [1 3 3 4]]\n",
      "**************************************************\n"
     ]
    }
   ],
   "source": [
    "arr=np.random.randint(1,15,(3,4))\n",
    "print(arr)\n",
    "print(\"*\"*50)\n",
    "print(arr//2)\n",
    "print(\"*\"*50)"
   ]
  },
  {
   "cell_type": "markdown",
   "id": "c91b4fb0-4ef0-413b-8766-4a278926fab2",
   "metadata": {},
   "source": [
    "### matrix multiplication"
   ]
  },
  {
   "cell_type": "code",
   "execution_count": 114,
   "id": "f89647d9-ee8c-41ef-9fb1-d318707bcd8c",
   "metadata": {},
   "outputs": [
    {
     "name": "stdout",
     "output_type": "stream",
     "text": [
      "[[212 160 320 119]\n",
      " [246 167 343 172]\n",
      " [174 144 222 181]\n",
      " [182 198 192 222]]\n"
     ]
    }
   ],
   "source": [
    "arr_1=np.random.randint(1,15,(4,4))\n",
    "arr_2=np.random.randint(1,15,(4,4))\n",
    "print(arr_1.dot(arr_2))"
   ]
  },
  {
   "cell_type": "markdown",
   "id": "c52237ba-cfc2-4240-9374-b4e8e7604adb",
   "metadata": {},
   "source": [
    "### power"
   ]
  },
  {
   "cell_type": "code",
   "execution_count": 117,
   "id": "5dc4cad5-1239-4d69-974f-d0b155618715",
   "metadata": {},
   "outputs": [
    {
     "name": "stdout",
     "output_type": "stream",
     "text": [
      "[[ 6  9  9  8]\n",
      " [ 6 14  2  2]\n",
      " [ 2  6  6  8]]\n",
      "**************************************************\n",
      "[[ 36  81  81  64]\n",
      " [ 36 196   4   4]\n",
      " [  4  36  36  64]]\n"
     ]
    }
   ],
   "source": [
    "print(arr)\n",
    "print(\"*\"*50)\n",
    "print(arr**2)\n"
   ]
  },
  {
   "cell_type": "markdown",
   "id": "7c742edb-0344-4eb8-a851-909daf725e09",
   "metadata": {},
   "source": [
    "### percentile function"
   ]
  },
  {
   "cell_type": "code",
   "execution_count": 124,
   "id": "c5839d07-7ba0-4751-87bb-aadcaebf8c08",
   "metadata": {},
   "outputs": [
    {
     "name": "stdout",
     "output_type": "stream",
     "text": [
      "[[11  9 10  4]\n",
      " [ 9  9  1  6]\n",
      " [14  4 11 12]]\n",
      "**************************************************\n",
      "**************************************************\n",
      "9.0\n"
     ]
    }
   ],
   "source": [
    "np.random.seed(3)\n",
    "arr=np.random.randint(1,15,(3,4))\n",
    "print(arr)\n",
    "print(\"*\"*50)\n",
    "arr=np.sort(arr)\n",
    "print(\"*\"*50)\n",
    "print(np.percentile(arr,50))"
   ]
  },
  {
   "cell_type": "markdown",
   "id": "095f534b-5cf4-405c-b662-1817cd78aae5",
   "metadata": {},
   "source": [
    "### mean varianve and standard devaiation"
   ]
  },
  {
   "cell_type": "code",
   "execution_count": 131,
   "id": "0926e0e6-3ed9-4c42-9d73-0efc204c8cdc",
   "metadata": {},
   "outputs": [
    {
     "name": "stdout",
     "output_type": "stream",
     "text": [
      "[9 4 9 9 1 6 4 6 8 7]\n",
      "mean 6.3\n",
      "variance 6.410000000000001\n",
      "standard deviation 2.5317977802344327\n"
     ]
    }
   ],
   "source": [
    "np.random.seed(3)\n",
    "arr=np.random.randint(1,10,10)\n",
    "print(arr)\n",
    "print(\"mean\",arr.mean())\n",
    "print(\"variance\",arr.var())\n",
    "print(\"standard deviation\",arr.std())"
   ]
  },
  {
   "cell_type": "markdown",
   "id": "dba9ab6a-19ed-459b-bb22-7726e5780322",
   "metadata": {},
   "source": [
    "### filtering in numpy array"
   ]
  },
  {
   "cell_type": "code",
   "execution_count": 136,
   "id": "7a505149-1c5b-4dbd-b801-f41896109c1f",
   "metadata": {},
   "outputs": [
    {
     "name": "stdout",
     "output_type": "stream",
     "text": [
      "[ 1  2  3  4  5  6  7  8  9 10 11 12 13 14]\n",
      "**************************************************\n",
      "[1 2 3 4 5 6]\n"
     ]
    }
   ],
   "source": [
    "arr=np.arange(1,15)\n",
    "print(arr)\n",
    "print(\"*\"*50)\n",
    "print(arr[arr<7])"
   ]
  },
  {
   "cell_type": "markdown",
   "id": "3882df50-149b-4090-8646-215bdcf2eb0a",
   "metadata": {},
   "source": [
    "### transposing an array"
   ]
  },
  {
   "cell_type": "code",
   "execution_count": 139,
   "id": "276cf563-a0bf-4e94-9ab8-6aa736237ed4",
   "metadata": {},
   "outputs": [
    {
     "name": "stdout",
     "output_type": "stream",
     "text": [
      "[[9 4 9]\n",
      " [9 1 6]\n",
      " [4 6 8]]\n",
      "Transpose of\n",
      "[[9 9 4]\n",
      " [4 1 6]\n",
      " [9 6 8]]\n"
     ]
    }
   ],
   "source": [
    "np.random.seed(3)\n",
    "arr=np.random.randint(1,10,(3,3))\n",
    "print(arr)\n",
    "print(\"Transpose of\")\n",
    "print(arr.T)"
   ]
  },
  {
   "cell_type": "markdown",
   "id": "27dd0932-de46-4829-9433-61b2006539d9",
   "metadata": {},
   "source": [
    "### where function"
   ]
  },
  {
   "cell_type": "code",
   "execution_count": 155,
   "id": "e5885bab-d460-49f5-8e29-12031e728c3c",
   "metadata": {},
   "outputs": [
    {
     "name": "stdout",
     "output_type": "stream",
     "text": [
      "[25  4 57 73  1 22 20 75 42 11]\n",
      "**************************************************\n",
      "['25' 'even' '57' '73' '1' 'even' 'even' '75' 'even' '11']\n",
      "['odd' '4' 'odd' 'odd' 'odd' '22' '20' 'odd' '42' 'odd']\n"
     ]
    }
   ],
   "source": [
    "np.random.seed(3)\n",
    "arr=np.random.randint(1,100,10)\n",
    "print(arr)\n",
    "print(\"*\"*50)\n",
    "print(np.where(arr%2==0,\"even\",arr))\n",
    "print(np.where(arr%2!=0,\"odd\",arr))"
   ]
  },
  {
   "cell_type": "markdown",
   "id": "168daeba-4cb9-49eb-b680-74312159d821",
   "metadata": {},
   "source": [
    "# merging arrays"
   ]
  },
  {
   "cell_type": "markdown",
   "id": "784f14c9-e469-4105-b65a-bafad7b7e7ff",
   "metadata": {},
   "source": [
    "### concatenate"
   ]
  },
  {
   "cell_type": "code",
   "execution_count": 182,
   "id": "be116e8f-da63-4bc4-a950-a389ba8cda82",
   "metadata": {},
   "outputs": [
    {
     "name": "stdout",
     "output_type": "stream",
     "text": [
      "[[8 3 3]\n",
      " [7 7 4]\n",
      " [7 8 8]]\n",
      "[[1 9 5]\n",
      " [6 5 6]\n",
      " [1 4 6]]\n",
      "**************************************************\n",
      "[[8 3 3]\n",
      " [7 7 4]\n",
      " [7 8 8]\n",
      " [1 9 5]\n",
      " [6 5 6]\n",
      " [1 4 6]]\n",
      "**************************************************\n",
      "[[8 3 3 1 9 5]\n",
      " [7 7 4 6 5 6]\n",
      " [7 8 8 1 4 6]]\n"
     ]
    }
   ],
   "source": [
    "arr_1=np.random.randint(1,10,(3,3))\n",
    "arr_2=np.random.randint(1,10,(3,3))\n",
    "print(arr_1)\n",
    "print(arr_2)\n",
    "print(\"*\"*50)\n",
    "print(np.concatenate((arr_1,arr_2),axis=0))\n",
    "print(\"*\"*50)\n",
    "print(np.concatenate((arr_1,arr_2),axis=1))"
   ]
  },
  {
   "cell_type": "markdown",
   "id": "b08b6923-d972-452f-8804-6777bff1f34d",
   "metadata": {},
   "source": [
    "### vstack and hstack"
   ]
  },
  {
   "cell_type": "code",
   "execution_count": 191,
   "id": "e8a5b3d6-7acd-440b-be1a-8654f9d370ac",
   "metadata": {},
   "outputs": [
    {
     "name": "stdout",
     "output_type": "stream",
     "text": [
      "[[7 6 8]\n",
      " [2 4 4]\n",
      " [6 1 8]]\n",
      "[[3 7 1]\n",
      " [2 1 5]\n",
      " [7 6 7]]\n",
      "**************************************************\n",
      "[[7 6 8 3 7 1]\n",
      " [2 4 4 2 1 5]\n",
      " [6 1 8 7 6 7]]\n"
     ]
    }
   ],
   "source": [
    "arr_1=np.random.randint(1,10,(3,3))\n",
    "arr_2=np.random.randint(1,10,(3,3))\n",
    "print(arr_1)\n",
    "print(arr_2)\n",
    "print(\"*\"*50)\n",
    "print(np.hstack((arr_1,arr_2)))"
   ]
  },
  {
   "cell_type": "code",
   "execution_count": 189,
   "id": "332a686b-fccf-441e-8e9c-7252181e48d2",
   "metadata": {},
   "outputs": [
    {
     "name": "stdout",
     "output_type": "stream",
     "text": [
      "[[3 4 2]\n",
      " [6 5 6]\n",
      " [3 5 2]]\n",
      "[[4 3 2]\n",
      " [5 6 9]\n",
      " [4 2 3]]\n",
      "**************************************************\n",
      "[[3 4 2]\n",
      " [6 5 6]\n",
      " [3 5 2]\n",
      " [4 3 2]\n",
      " [5 6 9]\n",
      " [4 2 3]]\n"
     ]
    }
   ],
   "source": [
    "arr_1=np.random.randint(1,10,(3,3))\n",
    "arr_2=np.random.randint(1,10,(3,3))\n",
    "print(arr_1)\n",
    "print(arr_2)\n",
    "print(\"*\"*50)\n",
    "print(np.vstack((arr_1,arr_2)))"
   ]
  },
  {
   "cell_type": "markdown",
   "id": "c5188fbf-45ab-4a08-ab30-c21b2287c209",
   "metadata": {},
   "source": [
    "### splitting arrays"
   ]
  },
  {
   "cell_type": "code",
   "execution_count": 202,
   "id": "14f57742-2101-4d55-ab14-0cb4565d8884",
   "metadata": {},
   "outputs": [
    {
     "name": "stdout",
     "output_type": "stream",
     "text": [
      "[[4 7 2 8]\n",
      " [2 3 1 8]\n",
      " [2 6 3 3]\n",
      " [2 4 5 4]]\n",
      "[array([[4, 7, 2, 8],\n",
      "       [2, 3, 1, 8]]), array([[2, 6, 3, 3],\n",
      "       [2, 4, 5, 4]])]\n",
      "**************************************************\n",
      "[array([[4, 7],\n",
      "       [2, 3],\n",
      "       [2, 6],\n",
      "       [2, 4]]), array([[2, 8],\n",
      "       [1, 8],\n",
      "       [3, 3],\n",
      "       [5, 4]])]\n"
     ]
    }
   ],
   "source": [
    "arr_1=np.random.randint(1,10,(4,4))\n",
    "print(arr_1)\n",
    "print(np.vsplit(arr_1,2))\n",
    "print(\"*\"*50)\n",
    "print(np.hsplit(arr_1,2))"
   ]
  },
  {
   "cell_type": "markdown",
   "id": "702a6592-fe99-4ef6-bb5f-9f94b175b102",
   "metadata": {},
   "source": [
    "# Turning Picture Into Numpy"
   ]
  },
  {
   "cell_type": "code",
   "execution_count": null,
   "id": "87830d5a-a02c-472e-871e-8b66b621c623",
   "metadata": {},
   "outputs": [],
   "source": []
  }
 ],
 "metadata": {
  "kernelspec": {
   "display_name": "Python 3 (ipykernel)",
   "language": "python",
   "name": "python3"
  },
  "language_info": {
   "codemirror_mode": {
    "name": "ipython",
    "version": 3
   },
   "file_extension": ".py",
   "mimetype": "text/x-python",
   "name": "python",
   "nbconvert_exporter": "python",
   "pygments_lexer": "ipython3",
   "version": "3.12.7"
  }
 },
 "nbformat": 4,
 "nbformat_minor": 5
}
